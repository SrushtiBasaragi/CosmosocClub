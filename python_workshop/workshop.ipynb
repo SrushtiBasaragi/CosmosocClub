{
  "nbformat": 4,
  "nbformat_minor": 0,
  "metadata": {
    "colab": {
      "name": "workshop.ipynb",
      "provenance": [],
      "toc_visible": true
    },
    "kernelspec": {
      "name": "python3",
      "display_name": "Python 3"
    },
    "language_info": {
      "name": "python"
    }
  },
  "cells": [
    {
      "cell_type": "markdown",
      "source": [
        "# **DATA TYPES**"
      ],
      "metadata": {
        "id": "1u3umolnR6ge"
      }
    },
    {
      "cell_type": "markdown",
      "source": [
        "**INT, FlOAT, BOOL, STRINGS**"
      ],
      "metadata": {
        "id": "vwF_xL9JYW9I"
      }
    },
    {
      "cell_type": "code",
      "source": [
        "x = 5\n",
        "print(type(x))"
      ],
      "metadata": {
        "id": "5TDGkKLgS6M_",
        "colab": {
          "base_uri": "https://localhost:8080/"
        },
        "outputId": "d74af9d4-1da7-496b-cc6b-7076ce023d5b"
      },
      "execution_count": 3,
      "outputs": [
        {
          "output_type": "stream",
          "name": "stdout",
          "text": [
            "<class 'int'>\n"
          ]
        }
      ]
    },
    {
      "cell_type": "code",
      "source": [
        "y = 2.349775\n",
        "print(type(y))"
      ],
      "metadata": {
        "colab": {
          "base_uri": "https://localhost:8080/"
        },
        "id": "hxfbQdqAYs6F",
        "outputId": "bcdeb763-fbbf-4ebf-fd15-695717dac60a"
      },
      "execution_count": 5,
      "outputs": [
        {
          "output_type": "stream",
          "name": "stdout",
          "text": [
            "<class 'float'>\n"
          ]
        }
      ]
    },
    {
      "cell_type": "code",
      "source": [
        "z = True\n",
        "print(type(z))"
      ],
      "metadata": {
        "colab": {
          "base_uri": "https://localhost:8080/"
        },
        "id": "x-RLDrF6YwJt",
        "outputId": "cf4c1d48-6544-4c34-d5ba-c407dca3fc68"
      },
      "execution_count": 7,
      "outputs": [
        {
          "output_type": "stream",
          "name": "stdout",
          "text": [
            "<class 'bool'>\n"
          ]
        }
      ]
    },
    {
      "cell_type": "code",
      "source": [
        "s = \"Hello World!\"\n",
        "print(type(s))"
      ],
      "metadata": {
        "colab": {
          "base_uri": "https://localhost:8080/"
        },
        "id": "Pt4EvwAXZonD",
        "outputId": "fb696d9c-4165-473d-fc91-c1e3b20d452f"
      },
      "execution_count": 15,
      "outputs": [
        {
          "output_type": "stream",
          "name": "stdout",
          "text": [
            "<class 'str'>\n"
          ]
        }
      ]
    },
    {
      "cell_type": "markdown",
      "source": [
        "**Taking inputs**"
      ],
      "metadata": {
        "id": "3G5zntbJZXLl"
      }
    },
    {
      "cell_type": "code",
      "source": [
        "name = input(\"What is your name? \")"
      ],
      "metadata": {
        "colab": {
          "base_uri": "https://localhost:8080/"
        },
        "id": "at8L2taeZPeZ",
        "outputId": "cd040b94-1326-4d60-ae81-c0516abcbd50"
      },
      "execution_count": 11,
      "outputs": [
        {
          "name": "stdout",
          "output_type": "stream",
          "text": [
            "What is your name? chidaksh\n"
          ]
        }
      ]
    },
    {
      "cell_type": "code",
      "source": [
        "print(name,type(name))"
      ],
      "metadata": {
        "colab": {
          "base_uri": "https://localhost:8080/"
        },
        "id": "l8-BlDZFZf8W",
        "outputId": "1b457110-9024-49fb-d9ee-fb80ffbfcd17"
      },
      "execution_count": 12,
      "outputs": [
        {
          "output_type": "stream",
          "name": "stdout",
          "text": [
            "chidaksh <class 'str'>\n"
          ]
        }
      ]
    },
    {
      "cell_type": "code",
      "source": [
        "fav = input(\"Enter your favourite number: \")"
      ],
      "metadata": {
        "colab": {
          "base_uri": "https://localhost:8080/"
        },
        "id": "AK3dpoALZxeF",
        "outputId": "c0295027-c019-4408-f925-be882beb514d"
      },
      "execution_count": 13,
      "outputs": [
        {
          "name": "stdout",
          "output_type": "stream",
          "text": [
            "Enter your favourite number7\n"
          ]
        }
      ]
    },
    {
      "cell_type": "code",
      "source": [
        "print(fav,type(fav))"
      ],
      "metadata": {
        "colab": {
          "base_uri": "https://localhost:8080/"
        },
        "id": "vfQYOCLjaPhk",
        "outputId": "7cec14f6-67c5-48a0-ea90-53f701c2adb6"
      },
      "execution_count": 14,
      "outputs": [
        {
          "output_type": "stream",
          "name": "stdout",
          "text": [
            "7 <class 'str'>\n"
          ]
        }
      ]
    },
    {
      "cell_type": "code",
      "source": [
        "fav = int(fav)\n",
        "print(fav,type(fav))"
      ],
      "metadata": {
        "colab": {
          "base_uri": "https://localhost:8080/"
        },
        "id": "3CWM-LP8aWlt",
        "outputId": "132f537d-819c-4d94-f16c-62025d3cc33c"
      },
      "execution_count": 16,
      "outputs": [
        {
          "output_type": "stream",
          "name": "stdout",
          "text": [
            "7 <class 'int'>\n"
          ]
        }
      ]
    },
    {
      "cell_type": "markdown",
      "source": [
        "**String Processing**"
      ],
      "metadata": {
        "id": "z-OzqoRPavjK"
      }
    },
    {
      "cell_type": "code",
      "source": [
        "topic = \"Python Workshop\""
      ],
      "metadata": {
        "id": "LsmkCSV4ahwe"
      },
      "execution_count": 18,
      "outputs": []
    },
    {
      "cell_type": "code",
      "source": [
        "topic[0]"
      ],
      "metadata": {
        "colab": {
          "base_uri": "https://localhost:8080/",
          "height": 35
        },
        "id": "DZyKZWcwcrXi",
        "outputId": "7ee9a131-7db4-484f-9e46-5dc92fac9d05"
      },
      "execution_count": 19,
      "outputs": [
        {
          "output_type": "execute_result",
          "data": {
            "application/vnd.google.colaboratory.intrinsic+json": {
              "type": "string"
            },
            "text/plain": [
              "'P'"
            ]
          },
          "metadata": {},
          "execution_count": 19
        }
      ]
    },
    {
      "cell_type": "code",
      "source": [
        "topic[10]"
      ],
      "metadata": {
        "colab": {
          "base_uri": "https://localhost:8080/",
          "height": 35
        },
        "id": "xuf3B9KFcsWl",
        "outputId": "2cdfc93c-0725-443d-aa82-e1230014f489"
      },
      "execution_count": 20,
      "outputs": [
        {
          "output_type": "execute_result",
          "data": {
            "application/vnd.google.colaboratory.intrinsic+json": {
              "type": "string"
            },
            "text/plain": [
              "'k'"
            ]
          },
          "metadata": {},
          "execution_count": 20
        }
      ]
    },
    {
      "cell_type": "code",
      "source": [
        "topic[-1]"
      ],
      "metadata": {
        "colab": {
          "base_uri": "https://localhost:8080/",
          "height": 35
        },
        "id": "27V29HCvcvO2",
        "outputId": "5eed4012-d4fb-459b-83ba-b118931ccc8a"
      },
      "execution_count": 21,
      "outputs": [
        {
          "output_type": "execute_result",
          "data": {
            "application/vnd.google.colaboratory.intrinsic+json": {
              "type": "string"
            },
            "text/plain": [
              "'p'"
            ]
          },
          "metadata": {},
          "execution_count": 21
        }
      ]
    },
    {
      "cell_type": "code",
      "source": [
        "topic[0:10]"
      ],
      "metadata": {
        "colab": {
          "base_uri": "https://localhost:8080/",
          "height": 35
        },
        "id": "4NY4dHHGcw-0",
        "outputId": "12c61a35-76d6-4f4a-a0b1-4b45cf80bbf1"
      },
      "execution_count": 22,
      "outputs": [
        {
          "output_type": "execute_result",
          "data": {
            "application/vnd.google.colaboratory.intrinsic+json": {
              "type": "string"
            },
            "text/plain": [
              "'Python Wor'"
            ]
          },
          "metadata": {},
          "execution_count": 22
        }
      ]
    },
    {
      "cell_type": "code",
      "source": [
        "topic[7:]"
      ],
      "metadata": {
        "colab": {
          "base_uri": "https://localhost:8080/",
          "height": 35
        },
        "id": "FP76HsF_czOl",
        "outputId": "37f66c7b-1819-4519-d0e7-792dd765bcb8"
      },
      "execution_count": 26,
      "outputs": [
        {
          "output_type": "execute_result",
          "data": {
            "application/vnd.google.colaboratory.intrinsic+json": {
              "type": "string"
            },
            "text/plain": [
              "'Workshop'"
            ]
          },
          "metadata": {},
          "execution_count": 26
        }
      ]
    },
    {
      "cell_type": "code",
      "source": [
        "topic[:-4]"
      ],
      "metadata": {
        "colab": {
          "base_uri": "https://localhost:8080/",
          "height": 35
        },
        "id": "LcBp5wJLc1lc",
        "outputId": "42f9356b-0b21-4cca-f2d7-cf384a6e8c08"
      },
      "execution_count": 29,
      "outputs": [
        {
          "output_type": "execute_result",
          "data": {
            "application/vnd.google.colaboratory.intrinsic+json": {
              "type": "string"
            },
            "text/plain": [
              "'Python Work'"
            ]
          },
          "metadata": {},
          "execution_count": 29
        }
      ]
    },
    {
      "cell_type": "code",
      "source": [
        "topic[:]"
      ],
      "metadata": {
        "colab": {
          "base_uri": "https://localhost:8080/",
          "height": 35
        },
        "id": "fwJydT5xc_Cm",
        "outputId": "cc4b8009-7682-40c9-deba-16e463fab082"
      },
      "execution_count": 30,
      "outputs": [
        {
          "output_type": "execute_result",
          "data": {
            "application/vnd.google.colaboratory.intrinsic+json": {
              "type": "string"
            },
            "text/plain": [
              "'Python Workshop'"
            ]
          },
          "metadata": {},
          "execution_count": 30
        }
      ]
    },
    {
      "cell_type": "code",
      "source": [
        "topic.lower()"
      ],
      "metadata": {
        "colab": {
          "base_uri": "https://localhost:8080/",
          "height": 35
        },
        "id": "h6bvv01vdcog",
        "outputId": "0a66d110-16be-486c-da18-722b0b382bcf"
      },
      "execution_count": 31,
      "outputs": [
        {
          "output_type": "execute_result",
          "data": {
            "application/vnd.google.colaboratory.intrinsic+json": {
              "type": "string"
            },
            "text/plain": [
              "'python workshop'"
            ]
          },
          "metadata": {},
          "execution_count": 31
        }
      ]
    },
    {
      "cell_type": "code",
      "source": [
        "topic.replace('Python','C++')"
      ],
      "metadata": {
        "colab": {
          "base_uri": "https://localhost:8080/",
          "height": 35
        },
        "id": "avRPU3WddRFE",
        "outputId": "b7dc597e-1206-430b-cd73-231f82da6d28"
      },
      "execution_count": 32,
      "outputs": [
        {
          "output_type": "execute_result",
          "data": {
            "application/vnd.google.colaboratory.intrinsic+json": {
              "type": "string"
            },
            "text/plain": [
              "'C++ Workshop'"
            ]
          },
          "metadata": {},
          "execution_count": 32
        }
      ]
    },
    {
      "cell_type": "markdown",
      "source": [
        "# **OPERATORS**"
      ],
      "metadata": {
        "id": "fXmZWpPIiWX4"
      }
    },
    {
      "cell_type": "code",
      "source": [
        "a = 2\n",
        "b = 3"
      ],
      "metadata": {
        "id": "8_XDSMwuiZUP"
      },
      "execution_count": 38,
      "outputs": []
    },
    {
      "cell_type": "code",
      "source": [
        "print(a+b)"
      ],
      "metadata": {
        "colab": {
          "base_uri": "https://localhost:8080/"
        },
        "id": "rmFI4lIeicfL",
        "outputId": "fcabe1a0-8083-4d99-c533-9329cb9537cf"
      },
      "execution_count": 39,
      "outputs": [
        {
          "output_type": "stream",
          "name": "stdout",
          "text": [
            "5\n"
          ]
        }
      ]
    },
    {
      "cell_type": "code",
      "source": [
        "print(a-b)"
      ],
      "metadata": {
        "colab": {
          "base_uri": "https://localhost:8080/"
        },
        "id": "_wdxxx_OicQp",
        "outputId": "da08ca6f-d1a9-4660-9927-70e29cb56a66"
      },
      "execution_count": 40,
      "outputs": [
        {
          "output_type": "stream",
          "name": "stdout",
          "text": [
            "-1\n"
          ]
        }
      ]
    },
    {
      "cell_type": "code",
      "source": [
        "print(a*b)"
      ],
      "metadata": {
        "colab": {
          "base_uri": "https://localhost:8080/"
        },
        "id": "UWTmsbjKigu4",
        "outputId": "52d725ff-c641-4bfe-b6f5-055db75c46e1"
      },
      "execution_count": 41,
      "outputs": [
        {
          "output_type": "stream",
          "name": "stdout",
          "text": [
            "6\n"
          ]
        }
      ]
    },
    {
      "cell_type": "code",
      "source": [
        "print(b/a)"
      ],
      "metadata": {
        "colab": {
          "base_uri": "https://localhost:8080/"
        },
        "id": "qv5FGicNii2X",
        "outputId": "4ef1d9ad-559d-456f-e0ec-0966f2fcf968"
      },
      "execution_count": 45,
      "outputs": [
        {
          "output_type": "stream",
          "name": "stdout",
          "text": [
            "1.5\n"
          ]
        }
      ]
    },
    {
      "cell_type": "code",
      "source": [
        "print(b//a)"
      ],
      "metadata": {
        "colab": {
          "base_uri": "https://localhost:8080/"
        },
        "id": "Y1j_r1W6ik0B",
        "outputId": "a40573e8-979c-4313-c0c1-a9a2f5604f7e"
      },
      "execution_count": 44,
      "outputs": [
        {
          "output_type": "stream",
          "name": "stdout",
          "text": [
            "1\n"
          ]
        }
      ]
    },
    {
      "cell_type": "code",
      "source": [
        "print(a%b)"
      ],
      "metadata": {
        "colab": {
          "base_uri": "https://localhost:8080/"
        },
        "id": "Ut88JB7hireb",
        "outputId": "ed365a88-55b9-47d1-c3c2-c591f368a8aa"
      },
      "execution_count": 46,
      "outputs": [
        {
          "output_type": "stream",
          "name": "stdout",
          "text": [
            "2\n"
          ]
        }
      ]
    },
    {
      "cell_type": "code",
      "source": [
        "print(a**b)"
      ],
      "metadata": {
        "colab": {
          "base_uri": "https://localhost:8080/"
        },
        "id": "94NFZTZRivKY",
        "outputId": "58e0ff3d-b5e6-477f-e34a-210af491c479"
      },
      "execution_count": 47,
      "outputs": [
        {
          "output_type": "stream",
          "name": "stdout",
          "text": [
            "8\n"
          ]
        }
      ]
    },
    {
      "cell_type": "code",
      "source": [
        "a = a+1\n",
        "print(a)"
      ],
      "metadata": {
        "colab": {
          "base_uri": "https://localhost:8080/"
        },
        "id": "aoDM0KwElEHf",
        "outputId": "661112b2-cc15-4976-cbd2-cc2ca9b48e87"
      },
      "execution_count": 48,
      "outputs": [
        {
          "output_type": "stream",
          "name": "stdout",
          "text": [
            "3\n"
          ]
        }
      ]
    },
    {
      "cell_type": "code",
      "source": [
        "b+=1\n",
        "print(b)"
      ],
      "metadata": {
        "colab": {
          "base_uri": "https://localhost:8080/"
        },
        "id": "hWUHBSAhlHmV",
        "outputId": "b3666341-de6f-4228-b15e-42a7d1cde35f"
      },
      "execution_count": 49,
      "outputs": [
        {
          "output_type": "stream",
          "name": "stdout",
          "text": [
            "4\n"
          ]
        }
      ]
    },
    {
      "cell_type": "code",
      "source": [
        "print(b++)"
      ],
      "metadata": {
        "colab": {
          "base_uri": "https://localhost:8080/",
          "height": 135
        },
        "id": "T6_pgYt7lKNV",
        "outputId": "57a0735a-deb5-4bdd-bbc1-fc416b01465d"
      },
      "execution_count": 52,
      "outputs": [
        {
          "output_type": "error",
          "ename": "SyntaxError",
          "evalue": "ignored",
          "traceback": [
            "\u001b[0;36m  File \u001b[0;32m\"<ipython-input-52-5497d73488c7>\"\u001b[0;36m, line \u001b[0;32m1\u001b[0m\n\u001b[0;31m    print(b++)\u001b[0m\n\u001b[0m             ^\u001b[0m\n\u001b[0;31mSyntaxError\u001b[0m\u001b[0;31m:\u001b[0m invalid syntax\n"
          ]
        }
      ]
    },
    {
      "cell_type": "markdown",
      "source": [
        "#**Commenting**"
      ],
      "metadata": {
        "id": "J79U-wzJl44L"
      }
    },
    {
      "cell_type": "code",
      "source": [
        "# print(\"happy\")"
      ],
      "metadata": {
        "id": "PmhWaZQul-vK"
      },
      "execution_count": 53,
      "outputs": []
    },
    {
      "cell_type": "code",
      "source": [
        "# This is a comment\n",
        "# written in\n",
        "# more than just one line\n",
        "print(\"Hello, World!\")"
      ],
      "metadata": {
        "colab": {
          "base_uri": "https://localhost:8080/"
        },
        "id": "rgzK-Bf5mT4S",
        "outputId": "906dc563-8430-4326-bd87-727ed25b07b6"
      },
      "execution_count": 55,
      "outputs": [
        {
          "output_type": "stream",
          "name": "stdout",
          "text": [
            "Hello, World!\n"
          ]
        }
      ]
    },
    {
      "cell_type": "code",
      "source": [
        "\"\"\"\n",
        "This is a comment\n",
        "written in\n",
        "more than just one line\n",
        "\"\"\"\n",
        "print(\"Hello, World!\")"
      ],
      "metadata": {
        "colab": {
          "base_uri": "https://localhost:8080/"
        },
        "id": "BqAq6HV7mghJ",
        "outputId": "54181438-d360-4b8f-8123-99f9d69281f9"
      },
      "execution_count": 56,
      "outputs": [
        {
          "output_type": "stream",
          "name": "stdout",
          "text": [
            "Hello, World!\n"
          ]
        }
      ]
    },
    {
      "cell_type": "markdown",
      "source": [
        "#**LISTS (MUTABLE)**"
      ],
      "metadata": {
        "id": "A4OSq6q5luQV"
      }
    },
    {
      "cell_type": "code",
      "source": [
        "container = [\"Python\",12,35.56,True,0]\n",
        "print(container,type(container))"
      ],
      "metadata": {
        "colab": {
          "base_uri": "https://localhost:8080/"
        },
        "id": "mU6Oo36Alx9f",
        "outputId": "b8bdb8bb-8db9-47e0-f1fd-1a2f8e724959"
      },
      "execution_count": 72,
      "outputs": [
        {
          "output_type": "stream",
          "name": "stdout",
          "text": [
            "['Python', 12, 35.56, True, 0] <class 'list'>\n"
          ]
        }
      ]
    },
    {
      "cell_type": "code",
      "source": [
        "container[0]"
      ],
      "metadata": {
        "colab": {
          "base_uri": "https://localhost:8080/",
          "height": 35
        },
        "id": "hBIArl_UpK7m",
        "outputId": "943fc588-46b3-4924-f97d-c72722cb0b8c"
      },
      "execution_count": 73,
      "outputs": [
        {
          "output_type": "execute_result",
          "data": {
            "application/vnd.google.colaboratory.intrinsic+json": {
              "type": "string"
            },
            "text/plain": [
              "'Python'"
            ]
          },
          "metadata": {},
          "execution_count": 73
        }
      ]
    },
    {
      "cell_type": "code",
      "source": [
        "print(len(container))"
      ],
      "metadata": {
        "colab": {
          "base_uri": "https://localhost:8080/"
        },
        "id": "fF7i17zruOA1",
        "outputId": "e525dae3-1578-4116-f277-bff3af394ad2"
      },
      "execution_count": 95,
      "outputs": [
        {
          "output_type": "stream",
          "name": "stdout",
          "text": [
            "5\n"
          ]
        }
      ]
    },
    {
      "cell_type": "code",
      "source": [
        "container[4] = \"Workshop\"\n",
        "print(container)"
      ],
      "metadata": {
        "colab": {
          "base_uri": "https://localhost:8080/"
        },
        "id": "HYSGTCkNpNN0",
        "outputId": "f31c4a58-3016-488a-8daf-f452a3961c72"
      },
      "execution_count": 74,
      "outputs": [
        {
          "output_type": "stream",
          "name": "stdout",
          "text": [
            "['Python', 12, 35.56, True, 'Workshop']\n"
          ]
        }
      ]
    },
    {
      "cell_type": "code",
      "source": [
        "container.append(\"Jan 2\")\n",
        "print(container)"
      ],
      "metadata": {
        "colab": {
          "base_uri": "https://localhost:8080/"
        },
        "id": "BWEQ9yYHp2z0",
        "outputId": "ab8f8e97-96a9-4937-f506-99be5d60a7db"
      },
      "execution_count": 75,
      "outputs": [
        {
          "output_type": "stream",
          "name": "stdout",
          "text": [
            "['Python', 12, 35.56, True, 'Workshop', 'Jan 2']\n"
          ]
        }
      ]
    },
    {
      "cell_type": "code",
      "source": [
        "container.remove(container[-1])\n",
        "print(container)"
      ],
      "metadata": {
        "colab": {
          "base_uri": "https://localhost:8080/"
        },
        "id": "_SRmGeCcqFUb",
        "outputId": "5bfc73e1-5747-49f6-ec30-2307dabb3459"
      },
      "execution_count": 76,
      "outputs": [
        {
          "output_type": "stream",
          "name": "stdout",
          "text": [
            "['Python', 12, 35.56, True, 'Workshop']\n"
          ]
        }
      ]
    },
    {
      "cell_type": "code",
      "source": [
        "A = [[1,0,1],\n",
        "     [1,1,1],\n",
        "     [2,1,3]]\n",
        "print(A[0][0],A[2][0])"
      ],
      "metadata": {
        "colab": {
          "base_uri": "https://localhost:8080/"
        },
        "id": "OwVqvbX7qYQO",
        "outputId": "d3ac226c-2752-4e8d-81ad-240b31c5614e"
      },
      "execution_count": 86,
      "outputs": [
        {
          "output_type": "stream",
          "name": "stdout",
          "text": [
            "1 2\n"
          ]
        }
      ]
    },
    {
      "cell_type": "code",
      "source": [
        "A[0][0] = 5\n",
        "print(A)"
      ],
      "metadata": {
        "colab": {
          "base_uri": "https://localhost:8080/"
        },
        "id": "rMm_sh1JqeMg",
        "outputId": "563c4e5e-633a-433f-d61f-709fb28ee7a2"
      },
      "execution_count": 87,
      "outputs": [
        {
          "output_type": "stream",
          "name": "stdout",
          "text": [
            "[[5, 0, 1], [1, 1, 1], [2, 1, 3]]\n"
          ]
        }
      ]
    },
    {
      "cell_type": "code",
      "source": [
        "print(A[2][:])"
      ],
      "metadata": {
        "colab": {
          "base_uri": "https://localhost:8080/"
        },
        "id": "qoCvfStVqvI_",
        "outputId": "0b799157-bc7d-44ce-b1bb-7d73a98b1f83"
      },
      "execution_count": 88,
      "outputs": [
        {
          "output_type": "stream",
          "name": "stdout",
          "text": [
            "[2, 1, 3]\n"
          ]
        }
      ]
    },
    {
      "cell_type": "markdown",
      "source": [
        "# **TUPLES (IMMUTABLE)**"
      ],
      "metadata": {
        "id": "fzI8wBiMrKUz"
      }
    },
    {
      "cell_type": "code",
      "source": [
        "states = (\"Karnataka\",\"Madhya Pradesh\",\"Andhra Pradesh\",\"Telangana\",\"Bihar\")\n",
        "print(states,type(states))"
      ],
      "metadata": {
        "colab": {
          "base_uri": "https://localhost:8080/"
        },
        "id": "75znAhwWrMuM",
        "outputId": "dce8eb83-8140-474d-d511-6e7261e38ba9"
      },
      "execution_count": 90,
      "outputs": [
        {
          "output_type": "stream",
          "name": "stdout",
          "text": [
            "('Karnataka', 'Madhya Pradesh', 'Andhra Pradesh', 'Telangana', 'Bihar') <class 'tuple'>\n"
          ]
        }
      ]
    },
    {
      "cell_type": "code",
      "source": [
        "print(states[0],states[-1])"
      ],
      "metadata": {
        "colab": {
          "base_uri": "https://localhost:8080/"
        },
        "id": "f8Je4Lgirm1Z",
        "outputId": "64283f77-fc67-441b-8242-a28d6b69d263"
      },
      "execution_count": 92,
      "outputs": [
        {
          "output_type": "stream",
          "name": "stdout",
          "text": [
            "Karnataka Bihar\n"
          ]
        }
      ]
    },
    {
      "cell_type": "code",
      "source": [
        "states.index(\"Andhra Pradesh\")"
      ],
      "metadata": {
        "colab": {
          "base_uri": "https://localhost:8080/"
        },
        "id": "FU-YMsHQr_yc",
        "outputId": "bdbb7fdd-d77a-453f-e833-3c4b63fb6929"
      },
      "execution_count": 93,
      "outputs": [
        {
          "output_type": "execute_result",
          "data": {
            "text/plain": [
              "2"
            ]
          },
          "metadata": {},
          "execution_count": 93
        }
      ]
    },
    {
      "cell_type": "code",
      "source": [
        "states[2] = \"Punjab\""
      ],
      "metadata": {
        "colab": {
          "base_uri": "https://localhost:8080/",
          "height": 171
        },
        "id": "OOdDi9ztsdzd",
        "outputId": "60f1e5c9-50a6-48a7-b11d-2dd38cb4b80b"
      },
      "execution_count": 94,
      "outputs": [
        {
          "output_type": "error",
          "ename": "TypeError",
          "evalue": "ignored",
          "traceback": [
            "\u001b[0;31m---------------------------------------------------------------------------\u001b[0m",
            "\u001b[0;31mTypeError\u001b[0m                                 Traceback (most recent call last)",
            "\u001b[0;32m<ipython-input-94-09b267136c6d>\u001b[0m in \u001b[0;36m<module>\u001b[0;34m()\u001b[0m\n\u001b[0;32m----> 1\u001b[0;31m \u001b[0mstates\u001b[0m\u001b[0;34m[\u001b[0m\u001b[0;36m2\u001b[0m\u001b[0;34m]\u001b[0m \u001b[0;34m=\u001b[0m \u001b[0;34m\"Punjab\"\u001b[0m\u001b[0;34m\u001b[0m\u001b[0;34m\u001b[0m\u001b[0m\n\u001b[0m",
            "\u001b[0;31mTypeError\u001b[0m: 'tuple' object does not support item assignment"
          ]
        }
      ]
    },
    {
      "cell_type": "code",
      "source": [
        "print(len(states))"
      ],
      "metadata": {
        "colab": {
          "base_uri": "https://localhost:8080/"
        },
        "id": "C8kTq1dkuR8Q",
        "outputId": "a985a4d9-ab51-4024-b15c-387fc8ddb223"
      },
      "execution_count": 96,
      "outputs": [
        {
          "output_type": "stream",
          "name": "stdout",
          "text": [
            "5\n"
          ]
        }
      ]
    },
    {
      "cell_type": "markdown",
      "source": [
        "#**Sets**"
      ],
      "metadata": {
        "id": "c0vf0gktxh7-"
      }
    },
    {
      "cell_type": "code",
      "source": [
        "fruits = {\"Apple\",\"Banana\",\"Grapes\",\"Watermelon\",\"Mango\",\"Banana\"}\n",
        "print(fruits,type(fruits))"
      ],
      "metadata": {
        "colab": {
          "base_uri": "https://localhost:8080/"
        },
        "id": "X36smiMNxlDw",
        "outputId": "f042f4a5-7ef9-48cc-bcdf-535e4f90f34c"
      },
      "execution_count": 102,
      "outputs": [
        {
          "output_type": "stream",
          "name": "stdout",
          "text": [
            "{'Mango', 'Watermelon', 'Banana', 'Grapes', 'Apple'} <class 'set'>\n"
          ]
        }
      ]
    },
    {
      "cell_type": "code",
      "source": [
        "fruits[1]"
      ],
      "metadata": {
        "colab": {
          "base_uri": "https://localhost:8080/",
          "height": 171
        },
        "id": "X7zU7-ywx2c2",
        "outputId": "a2715ebb-b229-4a9b-a6b9-18b991a6308e"
      },
      "execution_count": 103,
      "outputs": [
        {
          "output_type": "error",
          "ename": "TypeError",
          "evalue": "ignored",
          "traceback": [
            "\u001b[0;31m---------------------------------------------------------------------------\u001b[0m",
            "\u001b[0;31mTypeError\u001b[0m                                 Traceback (most recent call last)",
            "\u001b[0;32m<ipython-input-103-ee10bef72448>\u001b[0m in \u001b[0;36m<module>\u001b[0;34m()\u001b[0m\n\u001b[0;32m----> 1\u001b[0;31m \u001b[0mfruits\u001b[0m\u001b[0;34m[\u001b[0m\u001b[0;36m1\u001b[0m\u001b[0;34m]\u001b[0m\u001b[0;34m\u001b[0m\u001b[0;34m\u001b[0m\u001b[0m\n\u001b[0m",
            "\u001b[0;31mTypeError\u001b[0m: 'set' object is not subscriptable"
          ]
        }
      ]
    },
    {
      "cell_type": "code",
      "source": [
        "vegetables = {\"tomato\",\"brinjal\",\"cucumber\",\"radish\",\"carrot\",\"onion\"}\n",
        "print(vegetables,type(vegetables))"
      ],
      "metadata": {
        "colab": {
          "base_uri": "https://localhost:8080/"
        },
        "id": "o-5-Cgj_yksm",
        "outputId": "a84396e3-0cdf-4e1d-f917-1e1c4e084d42"
      },
      "execution_count": 104,
      "outputs": [
        {
          "output_type": "stream",
          "name": "stdout",
          "text": [
            "{'radish', 'carrot', 'tomato', 'onion', 'brinjal', 'cucumber'} <class 'set'>\n"
          ]
        }
      ]
    },
    {
      "cell_type": "code",
      "source": [
        "eatables = fruits.union(vegetables)\n",
        "print(eatables)"
      ],
      "metadata": {
        "colab": {
          "base_uri": "https://localhost:8080/"
        },
        "id": "2U4vY-Xky7FV",
        "outputId": "200b3017-e675-436b-c6ba-525626fbca45"
      },
      "execution_count": 106,
      "outputs": [
        {
          "output_type": "stream",
          "name": "stdout",
          "text": [
            "{'Mango', 'radish', 'carrot', 'brinjal', 'Watermelon', 'Banana', 'Grapes', 'onion', 'Apple', 'tomato', 'cucumber'}\n"
          ]
        }
      ]
    },
    {
      "cell_type": "code",
      "source": [
        "A = {1,2,3,4,\"happy\"}\n",
        "B = {2,6,7,8,\"sad\"}\n",
        "print(A.intersection(B))"
      ],
      "metadata": {
        "colab": {
          "base_uri": "https://localhost:8080/"
        },
        "id": "RxJTK3OSzgFC",
        "outputId": "e836cfee-bcd9-4a84-a391-90dac8b89b74"
      },
      "execution_count": 107,
      "outputs": [
        {
          "output_type": "stream",
          "name": "stdout",
          "text": [
            "{2}\n"
          ]
        }
      ]
    },
    {
      "cell_type": "markdown",
      "source": [
        "#**Dictionaries**"
      ],
      "metadata": {
        "id": "SN3-naVJXJ1i"
      }
    },
    {
      "cell_type": "code",
      "source": [
        "data = {\n",
        "    \"name\":\"K.L.Rahul\",\n",
        "    \"age\":29,\n",
        "    \"batting style\":\"Right hand\"\n",
        "}\n",
        "print(data,type(data))"
      ],
      "metadata": {
        "colab": {
          "base_uri": "https://localhost:8080/"
        },
        "id": "xjsJE6k7XNUS",
        "outputId": "84b3f100-7759-451c-a80d-0a68a9865fc2"
      },
      "execution_count": 144,
      "outputs": [
        {
          "output_type": "stream",
          "name": "stdout",
          "text": [
            "{'name': 'K.L.Rahul', 'age': 29, 'batting style': 'Right hand'} <class 'dict'>\n"
          ]
        }
      ]
    },
    {
      "cell_type": "code",
      "source": [
        "print(data[\"name\"])"
      ],
      "metadata": {
        "colab": {
          "base_uri": "https://localhost:8080/"
        },
        "id": "UvuQ9mhpYRIl",
        "outputId": "514f22bf-e360-4e7f-b456-e99ee741441c"
      },
      "execution_count": 145,
      "outputs": [
        {
          "output_type": "stream",
          "name": "stdout",
          "text": [
            "K.L.Rahul\n"
          ]
        }
      ]
    },
    {
      "cell_type": "code",
      "source": [
        "data[\"role\"] = \"WK-batsmen\"\n",
        "print(data)"
      ],
      "metadata": {
        "colab": {
          "base_uri": "https://localhost:8080/"
        },
        "id": "zch4Vlt9YX8r",
        "outputId": "c0fe3998-c61b-42b6-9c8f-96260989128f"
      },
      "execution_count": 146,
      "outputs": [
        {
          "output_type": "stream",
          "name": "stdout",
          "text": [
            "{'name': 'K.L.Rahul', 'age': 29, 'batting style': 'Right hand', 'role': 'WK-batsmen'}\n"
          ]
        }
      ]
    },
    {
      "cell_type": "code",
      "source": [
        "print(data.keys())"
      ],
      "metadata": {
        "colab": {
          "base_uri": "https://localhost:8080/"
        },
        "id": "5e7pXujdYpS5",
        "outputId": "55a4db4b-577e-4c30-cbad-45944eee61c9"
      },
      "execution_count": 147,
      "outputs": [
        {
          "output_type": "stream",
          "name": "stdout",
          "text": [
            "dict_keys(['name', 'age', 'batting style', 'role'])\n"
          ]
        }
      ]
    },
    {
      "cell_type": "markdown",
      "source": [
        "# **IF, FOR AND WHILE BLOCKS**"
      ],
      "metadata": {
        "id": "CIu58MkPeKNs"
      }
    },
    {
      "cell_type": "code",
      "source": [
        "var = 10\n",
        "if var > 15:\n",
        "    print(\"True\")\n",
        "else:\n",
        "    print(\"False\")"
      ],
      "metadata": {
        "colab": {
          "base_uri": "https://localhost:8080/"
        },
        "id": "xwvAJmtxeMNT",
        "outputId": "7ef95263-6107-4442-c1f3-ca9d4de67a21"
      },
      "execution_count": 135,
      "outputs": [
        {
          "output_type": "stream",
          "name": "stdout",
          "text": [
            "False\n"
          ]
        }
      ]
    },
    {
      "cell_type": "code",
      "source": [
        "a = 25\n",
        "b = 23\n",
        "if b > a:\n",
        "    print(\"b is greater than a\")\n",
        "elif a == b:\n",
        "    print(\"a and b are equal\")\n",
        "else:\n",
        "    print(\"a is greater than b\")"
      ],
      "metadata": {
        "id": "U8WT7rsflVry",
        "colab": {
          "base_uri": "https://localhost:8080/"
        },
        "outputId": "662d2963-5462-4f92-f20b-2a11bb90aa54"
      },
      "execution_count": 136,
      "outputs": [
        {
          "output_type": "stream",
          "name": "stdout",
          "text": [
            "a is greater than b\n"
          ]
        }
      ]
    },
    {
      "cell_type": "code",
      "source": [
        "for i in range(5):\n",
        "    print(i)"
      ],
      "metadata": {
        "colab": {
          "base_uri": "https://localhost:8080/"
        },
        "id": "lE7XNeXheQ9_",
        "outputId": "551b05da-89bd-440a-aca4-eb21858263a7"
      },
      "execution_count": 137,
      "outputs": [
        {
          "output_type": "stream",
          "name": "stdout",
          "text": [
            "0\n",
            "1\n",
            "2\n",
            "3\n",
            "4\n"
          ]
        }
      ]
    },
    {
      "cell_type": "code",
      "source": [
        "x = [1,2,3,4,5]\n",
        "for i in x:\n",
        "    print(i)"
      ],
      "metadata": {
        "colab": {
          "base_uri": "https://localhost:8080/"
        },
        "id": "lZ2C1jwJVyi8",
        "outputId": "7c4e102a-7694-426b-882c-063645106d49"
      },
      "execution_count": 140,
      "outputs": [
        {
          "output_type": "stream",
          "name": "stdout",
          "text": [
            "1\n",
            "2\n",
            "3\n",
            "4\n",
            "5\n"
          ]
        }
      ]
    },
    {
      "cell_type": "code",
      "source": [
        "data = {\n",
        "    \"name\":\"K.L.Rahul\",\n",
        "    \"age\":29,\n",
        "    \"batting style\":\"Right hand\"\n",
        "}\n",
        "for key in data:\n",
        "    print(data[key])"
      ],
      "metadata": {
        "colab": {
          "base_uri": "https://localhost:8080/"
        },
        "id": "3sf1rpyGY2mw",
        "outputId": "386a94d7-c3ad-4265-fb51-40145b845e37"
      },
      "execution_count": 148,
      "outputs": [
        {
          "output_type": "stream",
          "name": "stdout",
          "text": [
            "K.L.Rahul\n",
            "29\n",
            "Right hand\n"
          ]
        }
      ]
    },
    {
      "cell_type": "code",
      "source": [
        "i = 1\n",
        "while i < 6:\n",
        "  print(i)\n",
        "  if i == 3:\n",
        "    break\n",
        "  i += 1       # i = i+1\n"
      ],
      "metadata": {
        "id": "SxjMuYtKe-Hc",
        "colab": {
          "base_uri": "https://localhost:8080/"
        },
        "outputId": "43a3c491-8850-403b-e1cd-61af6551b5ea"
      },
      "execution_count": 143,
      "outputs": [
        {
          "output_type": "stream",
          "name": "stdout",
          "text": [
            "1\n",
            "2\n",
            "3\n"
          ]
        }
      ]
    },
    {
      "cell_type": "markdown",
      "source": [
        "# **Does tuples help us performance wise compared to lists**"
      ],
      "metadata": {
        "id": "dHVjofy4stgl"
      }
    },
    {
      "cell_type": "code",
      "source": [
        "%%timeit -n1 -r10\n",
        "for i in range(1000000):\n",
        "    my_list = [\"Person\",\"Gender\",25,True,\"State\",\"Name\"]"
      ],
      "metadata": {
        "colab": {
          "base_uri": "https://localhost:8080/"
        },
        "id": "nvLBuKK_sr6o",
        "outputId": "74b9a72b-6020-4b7f-bb4a-2c34451373e9"
      },
      "execution_count": 99,
      "outputs": [
        {
          "output_type": "stream",
          "name": "stdout",
          "text": [
            "1 loop, best of 10: 100 ms per loop\n"
          ]
        }
      ]
    },
    {
      "cell_type": "code",
      "source": [
        "%%timeit -n1 -r10\n",
        "for i in range(1000000):\n",
        "    my_tuple = (\"Person\",\"Gender\",25,True,\"State\",\"Name\")"
      ],
      "metadata": {
        "colab": {
          "base_uri": "https://localhost:8080/"
        },
        "id": "UfcwP9-SuyCd",
        "outputId": "e04b3e52-ec37-483a-9443-a5231301ef71"
      },
      "execution_count": 100,
      "outputs": [
        {
          "output_type": "stream",
          "name": "stdout",
          "text": [
            "1 loop, best of 10: 34.5 ms per loop\n"
          ]
        }
      ]
    },
    {
      "cell_type": "markdown",
      "source": [
        "**So lists take more time during initialization than tuples**"
      ],
      "metadata": {
        "id": "Hdj5bgROyR83"
      }
    },
    {
      "cell_type": "markdown",
      "source": [
        "#**In what cases are sets useful than lists and tuples performance wise**"
      ],
      "metadata": {
        "id": "U_27F5yTz4OP"
      }
    },
    {
      "cell_type": "code",
      "source": [
        "%%timeit -n1 -r20\n",
        "my_list = list(range(10000))\n",
        "for i in range(10000):\n",
        "    b = 1729 in my_list"
      ],
      "metadata": {
        "colab": {
          "base_uri": "https://localhost:8080/"
        },
        "id": "9ZcJRWHIz4_5",
        "outputId": "5d85f86a-3f53-4298-eb92-f8738f1cddfb"
      },
      "execution_count": 132,
      "outputs": [
        {
          "output_type": "stream",
          "name": "stdout",
          "text": [
            "1 loop, best of 20: 256 ms per loop\n"
          ]
        }
      ]
    },
    {
      "cell_type": "code",
      "source": [
        "%%timeit -n1 -r20\n",
        "my_tuple = tuple(range(10000))\n",
        "for i in range(10000):\n",
        "    b = 1729 in my_tuple"
      ],
      "metadata": {
        "colab": {
          "base_uri": "https://localhost:8080/"
        },
        "id": "ZuE22mjh0MMl",
        "outputId": "4d213ecd-331f-4506-b637-13a2995d28b3"
      },
      "execution_count": 133,
      "outputs": [
        {
          "output_type": "stream",
          "name": "stdout",
          "text": [
            "1 loop, best of 20: 250 ms per loop\n"
          ]
        }
      ]
    },
    {
      "cell_type": "code",
      "source": [
        "%%timeit -n1 -r20\n",
        "my_set = set(range(10000))\n",
        "for i in range(10000):\n",
        "    b = 1729 in my_set"
      ],
      "metadata": {
        "colab": {
          "base_uri": "https://localhost:8080/"
        },
        "id": "HQKKEAhd0Saz",
        "outputId": "fc61f128-3d4a-4b28-f4d2-e1a65a9f8a29"
      },
      "execution_count": 134,
      "outputs": [
        {
          "output_type": "stream",
          "name": "stdout",
          "text": [
            "1 loop, best of 20: 966 µs per loop\n"
          ]
        }
      ]
    },
    {
      "cell_type": "markdown",
      "source": [
        "**Sets are very efficient in searching through the entire data , one intrested application would be searching for a person based on aadhar id in the database**"
      ],
      "metadata": {
        "id": "M6Qftt-V1bMo"
      }
    },
    {
      "cell_type": "markdown",
      "source": [
        "# **Functions**"
      ],
      "metadata": {
        "id": "bv2NzrvzayrO"
      }
    },
    {
      "cell_type": "code",
      "source": [
        ""
      ],
      "metadata": {
        "id": "EFYd32Zra0_u"
      },
      "execution_count": null,
      "outputs": []
    }
  ]
}